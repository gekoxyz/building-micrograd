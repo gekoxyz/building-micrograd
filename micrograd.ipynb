{
 "cells": [
  {
   "cell_type": "code",
   "execution_count": 49,
   "metadata": {},
   "outputs": [],
   "source": [
    "import math\n",
    "import numpy as np\n",
    "import matplotlib.pyplot as plt\n",
    "import random\n",
    "%matplotlib inline"
   ]
  },
  {
   "cell_type": "code",
   "execution_count": 50,
   "metadata": {},
   "outputs": [],
   "source": [
    "class Value:\n",
    "    def __init__(self, data, _children=(), _op='', label=''):\n",
    "        self.data = data\n",
    "        self.grad = 0\n",
    "        self._backward = lambda: None\n",
    "        self._prev = set(_children)\n",
    "        self._op = _op\n",
    "        self.label = label\n",
    "    \n",
    "    # represent class object as string \n",
    "    def __repr__(self):\n",
    "        return f\"Value(data={self.data})\"\n",
    "\n",
    "    def __add__(self, other):\n",
    "        other = other if isinstance(other, Value) else Value(other)\n",
    "        out = Value(self.data + other.data, (self, other), '+')\n",
    "        \n",
    "        # the addition propagates\n",
    "        def _backward():\n",
    "            self.grad += 1.0 * out.grad\n",
    "            other.grad += 1.0 * out.grad\n",
    "        out._backward = _backward\n",
    "\n",
    "        return out\n",
    "    \n",
    "    def __radd__(self, other): # other + self\n",
    "        return self + other\n",
    "\n",
    "    def __neg__(self): # -self\n",
    "        return self * -1\n",
    "    \n",
    "    def __sub__(self, other): # self - other\n",
    "        return self + (-other)\n",
    "\n",
    "    def __mul__(self, other):\n",
    "        other = other if isinstance(other, Value) else Value(other)\n",
    "        out = Value(self.data * other.data, (self, other), '*')\n",
    "\n",
    "        # chain rule\n",
    "        def _backward():\n",
    "            self.grad += other.data * out.grad\n",
    "            other.grad += self.data * out.grad\n",
    "        out._backward = _backward\n",
    "\n",
    "        return out\n",
    "    \n",
    "    def __rmul__(self, other): # other * self\n",
    "        return self * other\n",
    "    \n",
    "    def __pow__(self, other):\n",
    "        assert isinstance(other, (int, float)), \"only supporting int/float powers\"\n",
    "        out = Value(self.data**other, (self,), f'**{other}')\n",
    "\n",
    "        def _backward():\n",
    "            self.grad += (self.data ** (other - 1)) * other * out.grad\n",
    "        out._backward = _backward\n",
    "\n",
    "        return out\n",
    "\n",
    "    def __truediv__(self, other): # self / other\n",
    "        return self * other**-1\n",
    "\n",
    "    def exp(self):\n",
    "        x = self.data\n",
    "        out = Value(math.exp(x), (self, ), 'exp')\n",
    "\n",
    "        def _backward():\n",
    "            self.grad += out.data * out.grad\n",
    "        out._backward = _backward\n",
    "        \n",
    "        return out\n",
    "\n",
    "    def tanh(self):\n",
    "        x = self.data\n",
    "        t = (math.exp(2*x) - 1)/(math.exp(2*x) + 1)\n",
    "        out = Value(t, (self,), 'tanh')\n",
    "\n",
    "        # local derivative\n",
    "        def _backward():\n",
    "            self.grad += (1 - t**2) * out.grad\n",
    "        out._backward = _backward\n",
    "\n",
    "        return out\n",
    "    \n",
    "    def backward(self):\n",
    "        topo = []\n",
    "        visited = set()\n",
    "        def build_topo(v):\n",
    "            if v not in visited:\n",
    "                visited.add(v)\n",
    "                for child in v._prev:\n",
    "                    build_topo(child)\n",
    "                topo.append(v)\n",
    "        build_topo(self)\n",
    "\n",
    "        self.grad = 1.0\n",
    "        for node in reversed(topo):\n",
    "            node._backward()\n",
    "\n"
   ]
  },
  {
   "cell_type": "code",
   "execution_count": 51,
   "metadata": {},
   "outputs": [],
   "source": [
    "from graphviz import Digraph\n",
    "\n",
    "def trace(root):\n",
    "    # builds a set of all nodes and edges in a graph\n",
    "    nodes, edges = set(), set()\n",
    "    def build(v):\n",
    "        if v not in nodes:\n",
    "            nodes.add(v)\n",
    "            for child in v._prev:\n",
    "                edges.add((child, v))\n",
    "                build(child)\n",
    "    build(root)\n",
    "    return nodes, edges\n",
    "\n",
    "def draw_dot(root):\n",
    "    dot = Digraph(format='svg', graph_attr={'rankdir': 'LR'}) # LR = left to right\n",
    "\n",
    "    nodes, edges = trace(root)\n",
    "    for n in nodes:\n",
    "        uid = str(id(n))\n",
    "        # for any value in the graph, create a rectangular ('record') node for it\n",
    "        dot.node(name=uid, label = \"{ %s | data %.4f | grad %.4f }\" % (n.label, n.data, n.grad), shape='record')\n",
    "        if n._op:\n",
    "            # if this value is a result of some operation, create an op node for it\n",
    "            dot.node(name=uid + n._op, label=n._op)\n",
    "            # and connect this node to it\n",
    "            dot.edge(uid + n._op, uid)\n",
    "    \n",
    "    for n1, n2 in edges:\n",
    "        dot.edge(str(id(n1)), str(id(n2)) + n2._op)\n",
    "    \n",
    "    return dot"
   ]
  },
  {
   "cell_type": "code",
   "execution_count": 52,
   "metadata": {},
   "outputs": [],
   "source": [
    "# inputs x1,x2\n",
    "x1 = Value(2.0, label='x1')\n",
    "x2 = Value(0.0, label='x2')\n",
    "# weights w1,w2\n",
    "w1 = Value(-3.0, label='w1')\n",
    "w2 = Value(1.0, label='w2')\n",
    "# bias of the neuron\n",
    "b = Value(6.8813735870195432, label='b')\n",
    "# x1*w1 + x2*w2 + b\n",
    "x1w1 = x1*w1; x1w1.label = 'x1*w1'\n",
    "x2w2 = x2*w2; x2w2.label = 'x2*w2'\n",
    "x1w1x2w2 = x1w1 + x2w2; x1w1x2w2.label = 'x1*w1 + x2*w2'\n",
    "# activation function\n",
    "n = x1w1x2w2 + b; n.label = 'n'\n",
    "o = n.tanh(); o.label = 'out'\n",
    "o.backward()"
   ]
  },
  {
   "cell_type": "code",
   "execution_count": 53,
   "metadata": {},
   "outputs": [
    {
     "data": {
      "image/svg+xml": "<?xml version=\"1.0\" encoding=\"UTF-8\" standalone=\"no\"?>\n<!DOCTYPE svg PUBLIC \"-//W3C//DTD SVG 1.1//EN\"\n \"http://www.w3.org/Graphics/SVG/1.1/DTD/svg11.dtd\">\n<!-- Generated by graphviz version 7.1.0 (20230121.1956)\n -->\n<!-- Pages: 1 -->\n<svg width=\"1586pt\" height=\"210pt\"\n viewBox=\"0.00 0.00 1586.00 210.00\" xmlns=\"http://www.w3.org/2000/svg\" xmlns:xlink=\"http://www.w3.org/1999/xlink\">\n<g id=\"graph0\" class=\"graph\" transform=\"scale(1 1) rotate(0) translate(4 206)\">\n<polygon fill=\"white\" stroke=\"none\" points=\"-4,4 -4,-206 1582,-206 1582,4 -4,4\"/>\n<!-- 5010442832 -->\n<g id=\"node1\" class=\"node\">\n<title>5010442832</title>\n<polygon fill=\"none\" stroke=\"black\" points=\"672,-82.5 672,-118.5 945,-118.5 945,-82.5 672,-82.5\"/>\n<text text-anchor=\"middle\" x=\"725\" y=\"-96.8\" font-family=\"Times,serif\" font-size=\"14.00\">x1*w1 + x2*w2</text>\n<polyline fill=\"none\" stroke=\"black\" points=\"778,-82.5 778,-118.5\"/>\n<text text-anchor=\"middle\" x=\"820.5\" y=\"-96.8\" font-family=\"Times,serif\" font-size=\"14.00\">data &#45;6.0000</text>\n<polyline fill=\"none\" stroke=\"black\" points=\"863,-82.5 863,-118.5\"/>\n<text text-anchor=\"middle\" x=\"904\" y=\"-96.8\" font-family=\"Times,serif\" font-size=\"14.00\">grad 0.5000</text>\n</g>\n<!-- 5010440592+ -->\n<g id=\"node15\" class=\"node\">\n<title>5010440592+</title>\n<ellipse fill=\"none\" stroke=\"black\" cx=\"1008\" cy=\"-127.5\" rx=\"27\" ry=\"18\"/>\n<text text-anchor=\"middle\" x=\"1008\" y=\"-123.8\" font-family=\"Times,serif\" font-size=\"14.00\">+</text>\n</g>\n<!-- 5010442832&#45;&gt;5010440592+ -->\n<g id=\"edge14\" class=\"edge\">\n<title>5010442832&#45;&gt;5010440592+</title>\n<path fill=\"none\" stroke=\"black\" d=\"M940.96,-118.47C951.31,-119.89 961.12,-121.23 969.85,-122.42\"/>\n<polygon fill=\"black\" stroke=\"black\" points=\"969.17,-125.86 979.56,-123.75 970.12,-118.93 969.17,-125.86\"/>\n</g>\n<!-- 5010442832+ -->\n<g id=\"node2\" class=\"node\">\n<title>5010442832+</title>\n<ellipse fill=\"none\" stroke=\"black\" cx=\"609\" cy=\"-100.5\" rx=\"27\" ry=\"18\"/>\n<text text-anchor=\"middle\" x=\"609\" y=\"-96.8\" font-family=\"Times,serif\" font-size=\"14.00\">+</text>\n</g>\n<!-- 5010442832+&#45;&gt;5010442832 -->\n<g id=\"edge1\" class=\"edge\">\n<title>5010442832+&#45;&gt;5010442832</title>\n<path fill=\"none\" stroke=\"black\" d=\"M636.23,-100.5C643.46,-100.5 651.86,-100.5 660.97,-100.5\"/>\n<polygon fill=\"black\" stroke=\"black\" points=\"660.89,-104 670.89,-100.5 660.89,-97 660.89,-104\"/>\n</g>\n<!-- 5010446992 -->\n<g id=\"node3\" class=\"node\">\n<title>5010446992</title>\n<polygon fill=\"none\" stroke=\"black\" points=\"716,-137.5 716,-173.5 901,-173.5 901,-137.5 716,-137.5\"/>\n<text text-anchor=\"middle\" x=\"727.5\" y=\"-151.8\" font-family=\"Times,serif\" font-size=\"14.00\">b</text>\n<polyline fill=\"none\" stroke=\"black\" points=\"739,-137.5 739,-173.5\"/>\n<text text-anchor=\"middle\" x=\"779\" y=\"-151.8\" font-family=\"Times,serif\" font-size=\"14.00\">data 6.8814</text>\n<polyline fill=\"none\" stroke=\"black\" points=\"819,-137.5 819,-173.5\"/>\n<text text-anchor=\"middle\" x=\"860\" y=\"-151.8\" font-family=\"Times,serif\" font-size=\"14.00\">grad 0.5000</text>\n</g>\n<!-- 5010446992&#45;&gt;5010440592+ -->\n<g id=\"edge13\" class=\"edge\">\n<title>5010446992&#45;&gt;5010440592+</title>\n<path fill=\"none\" stroke=\"black\" d=\"M900.73,-142.57C925.29,-139.08 950.47,-135.51 970.15,-132.72\"/>\n<polygon fill=\"black\" stroke=\"black\" points=\"970.44,-136.22 979.85,-131.35 969.46,-129.29 970.44,-136.22\"/>\n</g>\n<!-- 5010119056 -->\n<g id=\"node4\" class=\"node\">\n<title>5010119056</title>\n<polygon fill=\"none\" stroke=\"black\" points=\"326,-110.5 326,-146.5 546,-146.5 546,-110.5 326,-110.5\"/>\n<text text-anchor=\"middle\" x=\"352.5\" y=\"-124.8\" font-family=\"Times,serif\" font-size=\"14.00\">x1*w1</text>\n<polyline fill=\"none\" stroke=\"black\" points=\"379,-110.5 379,-146.5\"/>\n<text text-anchor=\"middle\" x=\"421.5\" y=\"-124.8\" font-family=\"Times,serif\" font-size=\"14.00\">data &#45;6.0000</text>\n<polyline fill=\"none\" stroke=\"black\" points=\"464,-110.5 464,-146.5\"/>\n<text text-anchor=\"middle\" x=\"505\" y=\"-124.8\" font-family=\"Times,serif\" font-size=\"14.00\">grad 0.5000</text>\n</g>\n<!-- 5010119056&#45;&gt;5010442832+ -->\n<g id=\"edge10\" class=\"edge\">\n<title>5010119056&#45;&gt;5010442832+</title>\n<path fill=\"none\" stroke=\"black\" d=\"M545.78,-110.69C554.79,-109.21 563.43,-107.8 571.25,-106.52\"/>\n<polygon fill=\"black\" stroke=\"black\" points=\"571.64,-110 580.94,-104.93 570.5,-103.09 571.64,-110\"/>\n</g>\n<!-- 5010119056* -->\n<g id=\"node5\" class=\"node\">\n<title>5010119056*</title>\n<ellipse fill=\"none\" stroke=\"black\" cx=\"263\" cy=\"-128.5\" rx=\"27\" ry=\"18\"/>\n<text text-anchor=\"middle\" x=\"263\" y=\"-124.8\" font-family=\"Times,serif\" font-size=\"14.00\">*</text>\n</g>\n<!-- 5010119056*&#45;&gt;5010119056 -->\n<g id=\"edge2\" class=\"edge\">\n<title>5010119056*&#45;&gt;5010119056</title>\n<path fill=\"none\" stroke=\"black\" d=\"M290.34,-128.5C297.6,-128.5 305.98,-128.5 314.97,-128.5\"/>\n<polygon fill=\"black\" stroke=\"black\" points=\"314.69,-132 324.69,-128.5 314.69,-125 314.69,-132\"/>\n</g>\n<!-- 4742965904 -->\n<g id=\"node6\" class=\"node\">\n<title>4742965904</title>\n<polygon fill=\"none\" stroke=\"black\" points=\"2,-165.5 2,-201.5 198,-201.5 198,-165.5 2,-165.5\"/>\n<text text-anchor=\"middle\" x=\"17\" y=\"-179.8\" font-family=\"Times,serif\" font-size=\"14.00\">x1</text>\n<polyline fill=\"none\" stroke=\"black\" points=\"32,-165.5 32,-201.5\"/>\n<text text-anchor=\"middle\" x=\"72\" y=\"-179.8\" font-family=\"Times,serif\" font-size=\"14.00\">data 2.0000</text>\n<polyline fill=\"none\" stroke=\"black\" points=\"112,-165.5 112,-201.5\"/>\n<text text-anchor=\"middle\" x=\"155\" y=\"-179.8\" font-family=\"Times,serif\" font-size=\"14.00\">grad &#45;1.5000</text>\n</g>\n<!-- 4742965904&#45;&gt;5010119056* -->\n<g id=\"edge8\" class=\"edge\">\n<title>4742965904&#45;&gt;5010119056*</title>\n<path fill=\"none\" stroke=\"black\" d=\"M172.27,-165.52C181.67,-162.72 191.12,-159.7 200,-156.5 210.09,-152.87 220.83,-148.29 230.48,-143.89\"/>\n<polygon fill=\"black\" stroke=\"black\" points=\"231.87,-147.11 239.45,-139.71 228.91,-140.76 231.87,-147.11\"/>\n</g>\n<!-- 4742961808 -->\n<g id=\"node7\" class=\"node\">\n<title>4742961808</title>\n<polygon fill=\"none\" stroke=\"black\" points=\"0,-110.5 0,-146.5 200,-146.5 200,-110.5 0,-110.5\"/>\n<text text-anchor=\"middle\" x=\"16.5\" y=\"-124.8\" font-family=\"Times,serif\" font-size=\"14.00\">w1</text>\n<polyline fill=\"none\" stroke=\"black\" points=\"33,-110.5 33,-146.5\"/>\n<text text-anchor=\"middle\" x=\"75.5\" y=\"-124.8\" font-family=\"Times,serif\" font-size=\"14.00\">data &#45;3.0000</text>\n<polyline fill=\"none\" stroke=\"black\" points=\"118,-110.5 118,-146.5\"/>\n<text text-anchor=\"middle\" x=\"159\" y=\"-124.8\" font-family=\"Times,serif\" font-size=\"14.00\">grad 1.0000</text>\n</g>\n<!-- 4742961808&#45;&gt;5010119056* -->\n<g id=\"edge9\" class=\"edge\">\n<title>4742961808&#45;&gt;5010119056*</title>\n<path fill=\"none\" stroke=\"black\" d=\"M199.75,-128.5C208.38,-128.5 216.71,-128.5 224.33,-128.5\"/>\n<polygon fill=\"black\" stroke=\"black\" points=\"224.12,-132 234.12,-128.5 224.12,-125 224.12,-132\"/>\n</g>\n<!-- 4742967440 -->\n<g id=\"node8\" class=\"node\">\n<title>4742967440</title>\n<polygon fill=\"none\" stroke=\"black\" points=\"4,-55.5 4,-91.5 196,-91.5 196,-55.5 4,-55.5\"/>\n<text text-anchor=\"middle\" x=\"19\" y=\"-69.8\" font-family=\"Times,serif\" font-size=\"14.00\">x2</text>\n<polyline fill=\"none\" stroke=\"black\" points=\"34,-55.5 34,-91.5\"/>\n<text text-anchor=\"middle\" x=\"74\" y=\"-69.8\" font-family=\"Times,serif\" font-size=\"14.00\">data 0.0000</text>\n<polyline fill=\"none\" stroke=\"black\" points=\"114,-55.5 114,-91.5\"/>\n<text text-anchor=\"middle\" x=\"155\" y=\"-69.8\" font-family=\"Times,serif\" font-size=\"14.00\">grad 0.5000</text>\n</g>\n<!-- 5010454288* -->\n<g id=\"node10\" class=\"node\">\n<title>5010454288*</title>\n<ellipse fill=\"none\" stroke=\"black\" cx=\"263\" cy=\"-73.5\" rx=\"27\" ry=\"18\"/>\n<text text-anchor=\"middle\" x=\"263\" y=\"-69.8\" font-family=\"Times,serif\" font-size=\"14.00\">*</text>\n</g>\n<!-- 4742967440&#45;&gt;5010454288* -->\n<g id=\"edge6\" class=\"edge\">\n<title>4742967440&#45;&gt;5010454288*</title>\n<path fill=\"none\" stroke=\"black\" d=\"M195.59,-73.5C205.66,-73.5 215.42,-73.5 224.23,-73.5\"/>\n<polygon fill=\"black\" stroke=\"black\" points=\"224.07,-77 234.07,-73.5 224.07,-70 224.07,-77\"/>\n</g>\n<!-- 5010454288 -->\n<g id=\"node9\" class=\"node\">\n<title>5010454288</title>\n<polygon fill=\"none\" stroke=\"black\" points=\"328.5,-55.5 328.5,-91.5 543.5,-91.5 543.5,-55.5 328.5,-55.5\"/>\n<text text-anchor=\"middle\" x=\"355\" y=\"-69.8\" font-family=\"Times,serif\" font-size=\"14.00\">x2*w2</text>\n<polyline fill=\"none\" stroke=\"black\" points=\"381.5,-55.5 381.5,-91.5\"/>\n<text text-anchor=\"middle\" x=\"421.5\" y=\"-69.8\" font-family=\"Times,serif\" font-size=\"14.00\">data 0.0000</text>\n<polyline fill=\"none\" stroke=\"black\" points=\"461.5,-55.5 461.5,-91.5\"/>\n<text text-anchor=\"middle\" x=\"502.5\" y=\"-69.8\" font-family=\"Times,serif\" font-size=\"14.00\">grad 0.5000</text>\n</g>\n<!-- 5010454288&#45;&gt;5010442832+ -->\n<g id=\"edge12\" class=\"edge\">\n<title>5010454288&#45;&gt;5010442832+</title>\n<path fill=\"none\" stroke=\"black\" d=\"M543.35,-90.29C553.14,-91.84 562.54,-93.32 570.99,-94.66\"/>\n<polygon fill=\"black\" stroke=\"black\" points=\"570.34,-98.1 580.76,-96.2 571.43,-91.18 570.34,-98.1\"/>\n</g>\n<!-- 5010454288*&#45;&gt;5010454288 -->\n<g id=\"edge3\" class=\"edge\">\n<title>5010454288*&#45;&gt;5010454288</title>\n<path fill=\"none\" stroke=\"black\" d=\"M290.34,-73.5C298.24,-73.5 307.46,-73.5 317.34,-73.5\"/>\n<polygon fill=\"black\" stroke=\"black\" points=\"317.24,-77 327.24,-73.5 317.24,-70 317.24,-77\"/>\n</g>\n<!-- 5010753872 -->\n<g id=\"node11\" class=\"node\">\n<title>5010753872</title>\n<polygon fill=\"none\" stroke=\"black\" points=\"1382,-109.5 1382,-145.5 1578,-145.5 1578,-109.5 1382,-109.5\"/>\n<text text-anchor=\"middle\" x=\"1399\" y=\"-123.8\" font-family=\"Times,serif\" font-size=\"14.00\">out</text>\n<polyline fill=\"none\" stroke=\"black\" points=\"1416,-109.5 1416,-145.5\"/>\n<text text-anchor=\"middle\" x=\"1456\" y=\"-123.8\" font-family=\"Times,serif\" font-size=\"14.00\">data 0.7071</text>\n<polyline fill=\"none\" stroke=\"black\" points=\"1496,-109.5 1496,-145.5\"/>\n<text text-anchor=\"middle\" x=\"1537\" y=\"-123.8\" font-family=\"Times,serif\" font-size=\"14.00\">grad 1.0000</text>\n</g>\n<!-- 5010753872tanh -->\n<g id=\"node12\" class=\"node\">\n<title>5010753872tanh</title>\n<ellipse fill=\"none\" stroke=\"black\" cx=\"1319\" cy=\"-127.5\" rx=\"27\" ry=\"18\"/>\n<text text-anchor=\"middle\" x=\"1319\" y=\"-123.8\" font-family=\"Times,serif\" font-size=\"14.00\">tanh</text>\n</g>\n<!-- 5010753872tanh&#45;&gt;5010753872 -->\n<g id=\"edge4\" class=\"edge\">\n<title>5010753872tanh&#45;&gt;5010753872</title>\n<path fill=\"none\" stroke=\"black\" d=\"M1346.26,-127.5C1353.59,-127.5 1362.05,-127.5 1371.07,-127.5\"/>\n<polygon fill=\"black\" stroke=\"black\" points=\"1370.8,-131 1380.8,-127.5 1370.8,-124 1370.8,-131\"/>\n</g>\n<!-- 4742965072 -->\n<g id=\"node13\" class=\"node\">\n<title>4742965072</title>\n<polygon fill=\"none\" stroke=\"black\" points=\"2.5,-0.5 2.5,-36.5 197.5,-36.5 197.5,-0.5 2.5,-0.5\"/>\n<text text-anchor=\"middle\" x=\"19\" y=\"-14.8\" font-family=\"Times,serif\" font-size=\"14.00\">w2</text>\n<polyline fill=\"none\" stroke=\"black\" points=\"35.5,-0.5 35.5,-36.5\"/>\n<text text-anchor=\"middle\" x=\"75.5\" y=\"-14.8\" font-family=\"Times,serif\" font-size=\"14.00\">data 1.0000</text>\n<polyline fill=\"none\" stroke=\"black\" points=\"115.5,-0.5 115.5,-36.5\"/>\n<text text-anchor=\"middle\" x=\"156.5\" y=\"-14.8\" font-family=\"Times,serif\" font-size=\"14.00\">grad 0.0000</text>\n</g>\n<!-- 4742965072&#45;&gt;5010454288* -->\n<g id=\"edge7\" class=\"edge\">\n<title>4742965072&#45;&gt;5010454288*</title>\n<path fill=\"none\" stroke=\"black\" d=\"M169.02,-36.42C179.47,-39.56 190.08,-42.95 200,-46.5 209.96,-50.06 220.59,-54.46 230.18,-58.66\"/>\n<polygon fill=\"black\" stroke=\"black\" points=\"228.54,-61.76 239.1,-62.66 231.4,-55.37 228.54,-61.76\"/>\n</g>\n<!-- 5010440592 -->\n<g id=\"node14\" class=\"node\">\n<title>5010440592</title>\n<polygon fill=\"none\" stroke=\"black\" points=\"1071,-109.5 1071,-145.5 1256,-145.5 1256,-109.5 1071,-109.5\"/>\n<text text-anchor=\"middle\" x=\"1082.5\" y=\"-123.8\" font-family=\"Times,serif\" font-size=\"14.00\">n</text>\n<polyline fill=\"none\" stroke=\"black\" points=\"1094,-109.5 1094,-145.5\"/>\n<text text-anchor=\"middle\" x=\"1134\" y=\"-123.8\" font-family=\"Times,serif\" font-size=\"14.00\">data 0.8814</text>\n<polyline fill=\"none\" stroke=\"black\" points=\"1174,-109.5 1174,-145.5\"/>\n<text text-anchor=\"middle\" x=\"1215\" y=\"-123.8\" font-family=\"Times,serif\" font-size=\"14.00\">grad 0.5000</text>\n</g>\n<!-- 5010440592&#45;&gt;5010753872tanh -->\n<g id=\"edge11\" class=\"edge\">\n<title>5010440592&#45;&gt;5010753872tanh</title>\n<path fill=\"none\" stroke=\"black\" d=\"M1255.57,-127.5C1264.21,-127.5 1272.6,-127.5 1280.28,-127.5\"/>\n<polygon fill=\"black\" stroke=\"black\" points=\"1280.19,-131 1290.19,-127.5 1280.19,-124 1280.19,-131\"/>\n</g>\n<!-- 5010440592+&#45;&gt;5010440592 -->\n<g id=\"edge5\" class=\"edge\">\n<title>5010440592+&#45;&gt;5010440592</title>\n<path fill=\"none\" stroke=\"black\" d=\"M1035.39,-127.5C1042.62,-127.5 1050.92,-127.5 1059.74,-127.5\"/>\n<polygon fill=\"black\" stroke=\"black\" points=\"1059.64,-131 1069.64,-127.5 1059.64,-124 1059.64,-131\"/>\n</g>\n</g>\n</svg>\n",
      "text/plain": [
       "<graphviz.graphs.Digraph at 0x10a9e2050>"
      ]
     },
     "execution_count": 53,
     "metadata": {},
     "output_type": "execute_result"
    }
   ],
   "source": [
    "draw_dot(o)"
   ]
  },
  {
   "cell_type": "code",
   "execution_count": 54,
   "metadata": {},
   "outputs": [],
   "source": [
    "# decomposing tanh\n",
    "\n",
    "# inputs x1,x2\n",
    "x1 = Value(2.0, label='x1')\n",
    "x2 = Value(0.0, label='x2')\n",
    "# weights w1,w2\n",
    "w1 = Value(-3.0, label='w1')\n",
    "w2 = Value(1.0, label='w2')\n",
    "# bias of the neuron\n",
    "b = Value(6.8813735870195432, label='b')\n",
    "# x1*w1 + x2*w2 + b\n",
    "x1w1 = x1*w1; x1w1.label = 'x1*w1'\n",
    "x2w2 = x2*w2; x2w2.label = 'x2*w2'\n",
    "x1w1x2w2 = x1w1 + x2w2; x1w1x2w2.label = 'x1*w1 + x2*w2'\n",
    "# activation function\n",
    "n = x1w1x2w2 + b; n.label = 'n'\n",
    "# ----- \n",
    "e = (2*n).exp()\n",
    "o = (e - 1) / (e + 1)\n",
    "# ----- \n",
    "o.label = 'out'\n",
    "o.backward()"
   ]
  },
  {
   "cell_type": "code",
   "execution_count": 55,
   "metadata": {},
   "outputs": [
    {
     "data": {
      "image/svg+xml": "<?xml version=\"1.0\" encoding=\"UTF-8\" standalone=\"no\"?>\n<!DOCTYPE svg PUBLIC \"-//W3C//DTD SVG 1.1//EN\"\n \"http://www.w3.org/Graphics/SVG/1.1/DTD/svg11.dtd\">\n<!-- Generated by graphviz version 7.1.0 (20230121.1956)\n -->\n<!-- Pages: 1 -->\n<svg width=\"2955pt\" height=\"236pt\"\n viewBox=\"0.00 0.00 2955.00 236.00\" xmlns=\"http://www.w3.org/2000/svg\" xmlns:xlink=\"http://www.w3.org/1999/xlink\">\n<g id=\"graph0\" class=\"graph\" transform=\"scale(1 1) rotate(0) translate(4 232)\">\n<polygon fill=\"white\" stroke=\"none\" points=\"-4,4 -4,-232 2951,-232 2951,4 -4,4\"/>\n<!-- 5010908176 -->\n<g id=\"node1\" class=\"node\">\n<title>5010908176</title>\n<polygon fill=\"none\" stroke=\"black\" points=\"1072.5,-164.5 1072.5,-200.5 1254.5,-200.5 1254.5,-164.5 1072.5,-164.5\"/>\n<text text-anchor=\"middle\" x=\"1082.5\" y=\"-178.8\" font-family=\"Times,serif\" font-size=\"14.00\"> </text>\n<polyline fill=\"none\" stroke=\"black\" points=\"1092.5,-164.5 1092.5,-200.5\"/>\n<text text-anchor=\"middle\" x=\"1132.5\" y=\"-178.8\" font-family=\"Times,serif\" font-size=\"14.00\">data 2.0000</text>\n<polyline fill=\"none\" stroke=\"black\" points=\"1172.5,-164.5 1172.5,-200.5\"/>\n<text text-anchor=\"middle\" x=\"1213.5\" y=\"-178.8\" font-family=\"Times,serif\" font-size=\"14.00\">grad 0.2203</text>\n</g>\n<!-- 5010901584* -->\n<g id=\"node4\" class=\"node\">\n<title>5010901584*</title>\n<ellipse fill=\"none\" stroke=\"black\" cx=\"1319\" cy=\"-154.5\" rx=\"27\" ry=\"18\"/>\n<text text-anchor=\"middle\" x=\"1319\" y=\"-150.8\" font-family=\"Times,serif\" font-size=\"14.00\">*</text>\n</g>\n<!-- 5010908176&#45;&gt;5010901584* -->\n<g id=\"edge12\" class=\"edge\">\n<title>5010908176&#45;&gt;5010901584*</title>\n<path fill=\"none\" stroke=\"black\" d=\"M1254.24,-166.13C1263.78,-164.39 1273.05,-162.7 1281.42,-161.17\"/>\n<polygon fill=\"black\" stroke=\"black\" points=\"1281.91,-164.64 1291.12,-159.4 1280.66,-157.75 1281.91,-164.64\"/>\n</g>\n<!-- 5010906128 -->\n<g id=\"node2\" class=\"node\">\n<title>5010906128</title>\n<polygon fill=\"none\" stroke=\"black\" points=\"716,-137.5 716,-173.5 901,-173.5 901,-137.5 716,-137.5\"/>\n<text text-anchor=\"middle\" x=\"727.5\" y=\"-151.8\" font-family=\"Times,serif\" font-size=\"14.00\">b</text>\n<polyline fill=\"none\" stroke=\"black\" points=\"739,-137.5 739,-173.5\"/>\n<text text-anchor=\"middle\" x=\"779\" y=\"-151.8\" font-family=\"Times,serif\" font-size=\"14.00\">data 6.8814</text>\n<polyline fill=\"none\" stroke=\"black\" points=\"819,-137.5 819,-173.5\"/>\n<text text-anchor=\"middle\" x=\"860\" y=\"-151.8\" font-family=\"Times,serif\" font-size=\"14.00\">grad 0.5000</text>\n</g>\n<!-- 5010912400+ -->\n<g id=\"node10\" class=\"node\">\n<title>5010912400+</title>\n<ellipse fill=\"none\" stroke=\"black\" cx=\"1008\" cy=\"-127.5\" rx=\"27\" ry=\"18\"/>\n<text text-anchor=\"middle\" x=\"1008\" y=\"-123.8\" font-family=\"Times,serif\" font-size=\"14.00\">+</text>\n</g>\n<!-- 5010906128&#45;&gt;5010912400+ -->\n<g id=\"edge18\" class=\"edge\">\n<title>5010906128&#45;&gt;5010912400+</title>\n<path fill=\"none\" stroke=\"black\" d=\"M900.73,-142.57C925.29,-139.08 950.47,-135.51 970.15,-132.72\"/>\n<polygon fill=\"black\" stroke=\"black\" points=\"970.44,-136.22 979.85,-131.35 969.46,-129.29 970.44,-136.22\"/>\n</g>\n<!-- 5010901584 -->\n<g id=\"node3\" class=\"node\">\n<title>5010901584</title>\n<polygon fill=\"none\" stroke=\"black\" points=\"1382,-136.5 1382,-172.5 1564,-172.5 1564,-136.5 1382,-136.5\"/>\n<text text-anchor=\"middle\" x=\"1392\" y=\"-150.8\" font-family=\"Times,serif\" font-size=\"14.00\"> </text>\n<polyline fill=\"none\" stroke=\"black\" points=\"1402,-136.5 1402,-172.5\"/>\n<text text-anchor=\"middle\" x=\"1442\" y=\"-150.8\" font-family=\"Times,serif\" font-size=\"14.00\">data 1.7627</text>\n<polyline fill=\"none\" stroke=\"black\" points=\"1482,-136.5 1482,-172.5\"/>\n<text text-anchor=\"middle\" x=\"1523\" y=\"-150.8\" font-family=\"Times,serif\" font-size=\"14.00\">grad 0.2500</text>\n</g>\n<!-- 4476978768exp -->\n<g id=\"node6\" class=\"node\">\n<title>4476978768exp</title>\n<ellipse fill=\"none\" stroke=\"black\" cx=\"1627\" cy=\"-154.5\" rx=\"27\" ry=\"18\"/>\n<text text-anchor=\"middle\" x=\"1627\" y=\"-150.8\" font-family=\"Times,serif\" font-size=\"14.00\">exp</text>\n</g>\n<!-- 5010901584&#45;&gt;4476978768exp -->\n<g id=\"edge27\" class=\"edge\">\n<title>5010901584&#45;&gt;4476978768exp</title>\n<path fill=\"none\" stroke=\"black\" d=\"M1563.74,-154.5C1572.34,-154.5 1580.7,-154.5 1588.36,-154.5\"/>\n<polygon fill=\"black\" stroke=\"black\" points=\"1588.24,-158 1598.24,-154.5 1588.24,-151 1588.24,-158\"/>\n</g>\n<!-- 5010901584*&#45;&gt;5010901584 -->\n<g id=\"edge1\" class=\"edge\">\n<title>5010901584*&#45;&gt;5010901584</title>\n<path fill=\"none\" stroke=\"black\" d=\"M1346.48,-154.5C1353.71,-154.5 1362.01,-154.5 1370.82,-154.5\"/>\n<polygon fill=\"black\" stroke=\"black\" points=\"1370.69,-158 1380.69,-154.5 1370.69,-151 1370.69,-158\"/>\n</g>\n<!-- 4476978768 -->\n<g id=\"node5\" class=\"node\">\n<title>4476978768</title>\n<polygon fill=\"none\" stroke=\"black\" points=\"1692.5,-136.5 1692.5,-172.5 1874.5,-172.5 1874.5,-136.5 1692.5,-136.5\"/>\n<text text-anchor=\"middle\" x=\"1702.5\" y=\"-150.8\" font-family=\"Times,serif\" font-size=\"14.00\"> </text>\n<polyline fill=\"none\" stroke=\"black\" points=\"1712.5,-136.5 1712.5,-172.5\"/>\n<text text-anchor=\"middle\" x=\"1752.5\" y=\"-150.8\" font-family=\"Times,serif\" font-size=\"14.00\">data 5.8284</text>\n<polyline fill=\"none\" stroke=\"black\" points=\"1792.5,-136.5 1792.5,-172.5\"/>\n<text text-anchor=\"middle\" x=\"1833.5\" y=\"-150.8\" font-family=\"Times,serif\" font-size=\"14.00\">grad 0.0429</text>\n</g>\n<!-- 5010903632+ -->\n<g id=\"node8\" class=\"node\">\n<title>5010903632+</title>\n<ellipse fill=\"none\" stroke=\"black\" cx=\"1940\" cy=\"-181.5\" rx=\"27\" ry=\"18\"/>\n<text text-anchor=\"middle\" x=\"1940\" y=\"-177.8\" font-family=\"Times,serif\" font-size=\"14.00\">+</text>\n</g>\n<!-- 4476978768&#45;&gt;5010903632+ -->\n<g id=\"edge17\" class=\"edge\">\n<title>4476978768&#45;&gt;5010903632+</title>\n<path fill=\"none\" stroke=\"black\" d=\"M1874.37,-170.21C1884.23,-171.93 1893.81,-173.6 1902.44,-175.11\"/>\n<polygon fill=\"black\" stroke=\"black\" points=\"1901.61,-178.52 1912.06,-176.79 1902.81,-171.62 1901.61,-178.52\"/>\n</g>\n<!-- 5010906896+ -->\n<g id=\"node19\" class=\"node\">\n<title>5010906896+</title>\n<ellipse fill=\"none\" stroke=\"black\" cx=\"1940\" cy=\"-126.5\" rx=\"27\" ry=\"18\"/>\n<text text-anchor=\"middle\" x=\"1940\" y=\"-122.8\" font-family=\"Times,serif\" font-size=\"14.00\">+</text>\n</g>\n<!-- 4476978768&#45;&gt;5010906896+ -->\n<g id=\"edge28\" class=\"edge\">\n<title>4476978768&#45;&gt;5010906896+</title>\n<path fill=\"none\" stroke=\"black\" d=\"M1874.37,-138.21C1884.23,-136.43 1893.81,-134.69 1902.44,-133.13\"/>\n<polygon fill=\"black\" stroke=\"black\" points=\"1902.85,-136.61 1912.06,-131.38 1901.6,-129.72 1902.85,-136.61\"/>\n</g>\n<!-- 4476978768exp&#45;&gt;4476978768 -->\n<g id=\"edge2\" class=\"edge\">\n<title>4476978768exp&#45;&gt;4476978768</title>\n<path fill=\"none\" stroke=\"black\" d=\"M1654.21,-154.5C1662.15,-154.5 1671.4,-154.5 1681.22,-154.5\"/>\n<polygon fill=\"black\" stroke=\"black\" points=\"1681.01,-158 1691.01,-154.5 1681.01,-151 1681.01,-158\"/>\n</g>\n<!-- 5010903632 -->\n<g id=\"node7\" class=\"node\">\n<title>5010903632</title>\n<polygon fill=\"none\" stroke=\"black\" points=\"2003,-163.5 2003,-199.5 2189,-199.5 2189,-163.5 2003,-163.5\"/>\n<text text-anchor=\"middle\" x=\"2013\" y=\"-177.8\" font-family=\"Times,serif\" font-size=\"14.00\"> </text>\n<polyline fill=\"none\" stroke=\"black\" points=\"2023,-163.5 2023,-199.5\"/>\n<text text-anchor=\"middle\" x=\"2063\" y=\"-177.8\" font-family=\"Times,serif\" font-size=\"14.00\">data 6.8284</text>\n<polyline fill=\"none\" stroke=\"black\" points=\"2103,-163.5 2103,-199.5\"/>\n<text text-anchor=\"middle\" x=\"2146\" y=\"-177.8\" font-family=\"Times,serif\" font-size=\"14.00\">grad &#45;0.1036</text>\n</g>\n<!-- 5010127568**&#45;1 -->\n<g id=\"node16\" class=\"node\">\n<title>5010127568**&#45;1</title>\n<ellipse fill=\"none\" stroke=\"black\" cx=\"2316\" cy=\"-181.5\" rx=\"27\" ry=\"18\"/>\n<text text-anchor=\"middle\" x=\"2316\" y=\"-177.8\" font-family=\"Times,serif\" font-size=\"14.00\">**&#45;1</text>\n</g>\n<!-- 5010903632&#45;&gt;5010127568**&#45;1 -->\n<g id=\"edge13\" class=\"edge\">\n<title>5010903632&#45;&gt;5010127568**&#45;1</title>\n<path fill=\"none\" stroke=\"black\" d=\"M2188.82,-181.5C2220.02,-181.5 2253.15,-181.5 2277.62,-181.5\"/>\n<polygon fill=\"black\" stroke=\"black\" points=\"2277.39,-185 2287.39,-181.5 2277.39,-178 2277.39,-185\"/>\n</g>\n<!-- 5010903632+&#45;&gt;5010903632 -->\n<g id=\"edge3\" class=\"edge\">\n<title>5010903632+&#45;&gt;5010903632</title>\n<path fill=\"none\" stroke=\"black\" d=\"M1967.47,-181.5C1974.67,-181.5 1982.92,-181.5 1991.69,-181.5\"/>\n<polygon fill=\"black\" stroke=\"black\" points=\"1991.51,-185 2001.51,-181.5 1991.51,-178 1991.51,-185\"/>\n</g>\n<!-- 5010912400 -->\n<g id=\"node9\" class=\"node\">\n<title>5010912400</title>\n<polygon fill=\"none\" stroke=\"black\" points=\"1071,-109.5 1071,-145.5 1256,-145.5 1256,-109.5 1071,-109.5\"/>\n<text text-anchor=\"middle\" x=\"1082.5\" y=\"-123.8\" font-family=\"Times,serif\" font-size=\"14.00\">n</text>\n<polyline fill=\"none\" stroke=\"black\" points=\"1094,-109.5 1094,-145.5\"/>\n<text text-anchor=\"middle\" x=\"1134\" y=\"-123.8\" font-family=\"Times,serif\" font-size=\"14.00\">data 0.8814</text>\n<polyline fill=\"none\" stroke=\"black\" points=\"1174,-109.5 1174,-145.5\"/>\n<text text-anchor=\"middle\" x=\"1215\" y=\"-123.8\" font-family=\"Times,serif\" font-size=\"14.00\">grad 0.5000</text>\n</g>\n<!-- 5010912400&#45;&gt;5010901584* -->\n<g id=\"edge19\" class=\"edge\">\n<title>5010912400&#45;&gt;5010901584*</title>\n<path fill=\"none\" stroke=\"black\" d=\"M1255.57,-143.52C1264.67,-145.12 1273.5,-146.67 1281.52,-148.08\"/>\n<polygon fill=\"black\" stroke=\"black\" points=\"1280.66,-151.49 1291.12,-149.77 1281.88,-144.59 1280.66,-151.49\"/>\n</g>\n<!-- 5010912400+&#45;&gt;5010912400 -->\n<g id=\"edge4\" class=\"edge\">\n<title>5010912400+&#45;&gt;5010912400</title>\n<path fill=\"none\" stroke=\"black\" d=\"M1035.39,-127.5C1042.62,-127.5 1050.92,-127.5 1059.74,-127.5\"/>\n<polygon fill=\"black\" stroke=\"black\" points=\"1059.64,-131 1069.64,-127.5 1059.64,-124 1059.64,-131\"/>\n</g>\n<!-- 5010900112 -->\n<g id=\"node11\" class=\"node\">\n<title>5010900112</title>\n<polygon fill=\"none\" stroke=\"black\" points=\"2.5,-55.5 2.5,-91.5 197.5,-91.5 197.5,-55.5 2.5,-55.5\"/>\n<text text-anchor=\"middle\" x=\"19\" y=\"-69.8\" font-family=\"Times,serif\" font-size=\"14.00\">w2</text>\n<polyline fill=\"none\" stroke=\"black\" points=\"35.5,-55.5 35.5,-91.5\"/>\n<text text-anchor=\"middle\" x=\"75.5\" y=\"-69.8\" font-family=\"Times,serif\" font-size=\"14.00\">data 1.0000</text>\n<polyline fill=\"none\" stroke=\"black\" points=\"115.5,-55.5 115.5,-91.5\"/>\n<text text-anchor=\"middle\" x=\"156.5\" y=\"-69.8\" font-family=\"Times,serif\" font-size=\"14.00\">grad 0.0000</text>\n</g>\n<!-- 5010899408* -->\n<g id=\"node28\" class=\"node\">\n<title>5010899408*</title>\n<ellipse fill=\"none\" stroke=\"black\" cx=\"263\" cy=\"-73.5\" rx=\"27\" ry=\"18\"/>\n<text text-anchor=\"middle\" x=\"263\" y=\"-69.8\" font-family=\"Times,serif\" font-size=\"14.00\">*</text>\n</g>\n<!-- 5010900112&#45;&gt;5010899408* -->\n<g id=\"edge14\" class=\"edge\">\n<title>5010900112&#45;&gt;5010899408*</title>\n<path fill=\"none\" stroke=\"black\" d=\"M197.44,-73.5C206.89,-73.5 216.04,-73.5 224.32,-73.5\"/>\n<polygon fill=\"black\" stroke=\"black\" points=\"224.28,-77 234.28,-73.5 224.28,-70 224.28,-77\"/>\n</g>\n<!-- 5010912464 -->\n<g id=\"node12\" class=\"node\">\n<title>5010912464</title>\n<polygon fill=\"none\" stroke=\"black\" points=\"1690,-81.5 1690,-117.5 1877,-117.5 1877,-81.5 1690,-81.5\"/>\n<text text-anchor=\"middle\" x=\"1700\" y=\"-95.8\" font-family=\"Times,serif\" font-size=\"14.00\"> </text>\n<polyline fill=\"none\" stroke=\"black\" points=\"1710,-81.5 1710,-117.5\"/>\n<text text-anchor=\"middle\" x=\"1752.5\" y=\"-95.8\" font-family=\"Times,serif\" font-size=\"14.00\">data &#45;1.0000</text>\n<polyline fill=\"none\" stroke=\"black\" points=\"1795,-81.5 1795,-117.5\"/>\n<text text-anchor=\"middle\" x=\"1836\" y=\"-95.8\" font-family=\"Times,serif\" font-size=\"14.00\">grad 0.1464</text>\n</g>\n<!-- 5010912464&#45;&gt;5010906896+ -->\n<g id=\"edge21\" class=\"edge\">\n<title>5010912464&#45;&gt;5010906896+</title>\n<path fill=\"none\" stroke=\"black\" d=\"M1876.6,-115.6C1885.53,-117.16 1894.18,-118.67 1902.06,-120.04\"/>\n<polygon fill=\"black\" stroke=\"black\" points=\"1901.4,-123.48 1911.86,-121.76 1902.61,-116.59 1901.4,-123.48\"/>\n</g>\n<!-- 5010901200 -->\n<g id=\"node13\" class=\"node\">\n<title>5010901200</title>\n<polygon fill=\"none\" stroke=\"black\" points=\"326,-110.5 326,-146.5 546,-146.5 546,-110.5 326,-110.5\"/>\n<text text-anchor=\"middle\" x=\"352.5\" y=\"-124.8\" font-family=\"Times,serif\" font-size=\"14.00\">x1*w1</text>\n<polyline fill=\"none\" stroke=\"black\" points=\"379,-110.5 379,-146.5\"/>\n<text text-anchor=\"middle\" x=\"421.5\" y=\"-124.8\" font-family=\"Times,serif\" font-size=\"14.00\">data &#45;6.0000</text>\n<polyline fill=\"none\" stroke=\"black\" points=\"464,-110.5 464,-146.5\"/>\n<text text-anchor=\"middle\" x=\"505\" y=\"-124.8\" font-family=\"Times,serif\" font-size=\"14.00\">grad 0.5000</text>\n</g>\n<!-- 5010910992+ -->\n<g id=\"node21\" class=\"node\">\n<title>5010910992+</title>\n<ellipse fill=\"none\" stroke=\"black\" cx=\"609\" cy=\"-100.5\" rx=\"27\" ry=\"18\"/>\n<text text-anchor=\"middle\" x=\"609\" y=\"-96.8\" font-family=\"Times,serif\" font-size=\"14.00\">+</text>\n</g>\n<!-- 5010901200&#45;&gt;5010910992+ -->\n<g id=\"edge24\" class=\"edge\">\n<title>5010901200&#45;&gt;5010910992+</title>\n<path fill=\"none\" stroke=\"black\" d=\"M545.78,-110.69C554.79,-109.21 563.43,-107.8 571.25,-106.52\"/>\n<polygon fill=\"black\" stroke=\"black\" points=\"571.64,-110 580.94,-104.93 570.5,-103.09 571.64,-110\"/>\n</g>\n<!-- 5010901200* -->\n<g id=\"node14\" class=\"node\">\n<title>5010901200*</title>\n<ellipse fill=\"none\" stroke=\"black\" cx=\"263\" cy=\"-128.5\" rx=\"27\" ry=\"18\"/>\n<text text-anchor=\"middle\" x=\"263\" y=\"-124.8\" font-family=\"Times,serif\" font-size=\"14.00\">*</text>\n</g>\n<!-- 5010901200*&#45;&gt;5010901200 -->\n<g id=\"edge5\" class=\"edge\">\n<title>5010901200*&#45;&gt;5010901200</title>\n<path fill=\"none\" stroke=\"black\" d=\"M290.34,-128.5C297.6,-128.5 305.98,-128.5 314.97,-128.5\"/>\n<polygon fill=\"black\" stroke=\"black\" points=\"314.69,-132 324.69,-128.5 314.69,-125 314.69,-132\"/>\n</g>\n<!-- 5010127568 -->\n<g id=\"node15\" class=\"node\">\n<title>5010127568</title>\n<polygon fill=\"none\" stroke=\"black\" points=\"2443,-161.5 2443,-197.5 2625,-197.5 2625,-161.5 2443,-161.5\"/>\n<text text-anchor=\"middle\" x=\"2453\" y=\"-175.8\" font-family=\"Times,serif\" font-size=\"14.00\"> </text>\n<polyline fill=\"none\" stroke=\"black\" points=\"2463,-161.5 2463,-197.5\"/>\n<text text-anchor=\"middle\" x=\"2503\" y=\"-175.8\" font-family=\"Times,serif\" font-size=\"14.00\">data 0.1464</text>\n<polyline fill=\"none\" stroke=\"black\" points=\"2543,-161.5 2543,-197.5\"/>\n<text text-anchor=\"middle\" x=\"2584\" y=\"-175.8\" font-family=\"Times,serif\" font-size=\"14.00\">grad 4.8284</text>\n</g>\n<!-- 5010902416* -->\n<g id=\"node26\" class=\"node\">\n<title>5010902416*</title>\n<ellipse fill=\"none\" stroke=\"black\" cx=\"2688\" cy=\"-153.5\" rx=\"27\" ry=\"18\"/>\n<text text-anchor=\"middle\" x=\"2688\" y=\"-149.8\" font-family=\"Times,serif\" font-size=\"14.00\">*</text>\n</g>\n<!-- 5010127568&#45;&gt;5010902416* -->\n<g id=\"edge16\" class=\"edge\">\n<title>5010127568&#45;&gt;5010902416*</title>\n<path fill=\"none\" stroke=\"black\" d=\"M2624.74,-164.15C2633.62,-162.63 2642.23,-161.16 2650.09,-159.81\"/>\n<polygon fill=\"black\" stroke=\"black\" points=\"2650.6,-163.28 2659.86,-158.14 2649.42,-156.38 2650.6,-163.28\"/>\n</g>\n<!-- 5010127568**&#45;1&#45;&gt;5010127568 -->\n<g id=\"edge6\" class=\"edge\">\n<title>5010127568**&#45;1&#45;&gt;5010127568</title>\n<path fill=\"none\" stroke=\"black\" d=\"M2343.49,-181.25C2365.76,-181.05 2399.08,-180.74 2431.61,-180.44\"/>\n<polygon fill=\"black\" stroke=\"black\" points=\"2431.58,-183.94 2441.54,-180.35 2431.51,-176.94 2431.58,-183.94\"/>\n</g>\n<!-- 5010911952 -->\n<g id=\"node17\" class=\"node\">\n<title>5010911952</title>\n<polygon fill=\"none\" stroke=\"black\" points=\"1690.5,-191.5 1690.5,-227.5 1876.5,-227.5 1876.5,-191.5 1690.5,-191.5\"/>\n<text text-anchor=\"middle\" x=\"1700.5\" y=\"-205.8\" font-family=\"Times,serif\" font-size=\"14.00\"> </text>\n<polyline fill=\"none\" stroke=\"black\" points=\"1710.5,-191.5 1710.5,-227.5\"/>\n<text text-anchor=\"middle\" x=\"1750.5\" y=\"-205.8\" font-family=\"Times,serif\" font-size=\"14.00\">data 1.0000</text>\n<polyline fill=\"none\" stroke=\"black\" points=\"1790.5,-191.5 1790.5,-227.5\"/>\n<text text-anchor=\"middle\" x=\"1833.5\" y=\"-205.8\" font-family=\"Times,serif\" font-size=\"14.00\">grad &#45;0.1036</text>\n</g>\n<!-- 5010911952&#45;&gt;5010903632+ -->\n<g id=\"edge25\" class=\"edge\">\n<title>5010911952&#45;&gt;5010903632+</title>\n<path fill=\"none\" stroke=\"black\" d=\"M1876.16,-192.89C1885.33,-191.23 1894.21,-189.62 1902.28,-188.15\"/>\n<polygon fill=\"black\" stroke=\"black\" points=\"1902.74,-191.63 1911.95,-186.4 1901.49,-184.74 1902.74,-191.63\"/>\n</g>\n<!-- 5010906896 -->\n<g id=\"node18\" class=\"node\">\n<title>5010906896</title>\n<polygon fill=\"none\" stroke=\"black\" points=\"2225,-108.5 2225,-144.5 2407,-144.5 2407,-108.5 2225,-108.5\"/>\n<text text-anchor=\"middle\" x=\"2235\" y=\"-122.8\" font-family=\"Times,serif\" font-size=\"14.00\"> </text>\n<polyline fill=\"none\" stroke=\"black\" points=\"2245,-108.5 2245,-144.5\"/>\n<text text-anchor=\"middle\" x=\"2285\" y=\"-122.8\" font-family=\"Times,serif\" font-size=\"14.00\">data 4.8284</text>\n<polyline fill=\"none\" stroke=\"black\" points=\"2325,-108.5 2325,-144.5\"/>\n<text text-anchor=\"middle\" x=\"2366\" y=\"-122.8\" font-family=\"Times,serif\" font-size=\"14.00\">grad 0.1464</text>\n</g>\n<!-- 5010906896&#45;&gt;5010902416* -->\n<g id=\"edge26\" class=\"edge\">\n<title>5010906896&#45;&gt;5010902416*</title>\n<path fill=\"none\" stroke=\"black\" d=\"M2406.57,-133.04C2484.44,-138.72 2593.37,-146.67 2649.81,-150.79\"/>\n<polygon fill=\"black\" stroke=\"black\" points=\"2649.29,-154.26 2659.52,-151.49 2649.8,-147.28 2649.29,-154.26\"/>\n</g>\n<!-- 5010906896+&#45;&gt;5010906896 -->\n<g id=\"edge7\" class=\"edge\">\n<title>5010906896+&#45;&gt;5010906896</title>\n<path fill=\"none\" stroke=\"black\" d=\"M1967.3,-126.5C2017.69,-126.5 2130.25,-126.5 2213.73,-126.5\"/>\n<polygon fill=\"black\" stroke=\"black\" points=\"2213.53,-130 2223.53,-126.5 2213.53,-123 2213.53,-130\"/>\n</g>\n<!-- 5010910992 -->\n<g id=\"node20\" class=\"node\">\n<title>5010910992</title>\n<polygon fill=\"none\" stroke=\"black\" points=\"672,-82.5 672,-118.5 945,-118.5 945,-82.5 672,-82.5\"/>\n<text text-anchor=\"middle\" x=\"725\" y=\"-96.8\" font-family=\"Times,serif\" font-size=\"14.00\">x1*w1 + x2*w2</text>\n<polyline fill=\"none\" stroke=\"black\" points=\"778,-82.5 778,-118.5\"/>\n<text text-anchor=\"middle\" x=\"820.5\" y=\"-96.8\" font-family=\"Times,serif\" font-size=\"14.00\">data &#45;6.0000</text>\n<polyline fill=\"none\" stroke=\"black\" points=\"863,-82.5 863,-118.5\"/>\n<text text-anchor=\"middle\" x=\"904\" y=\"-96.8\" font-family=\"Times,serif\" font-size=\"14.00\">grad 0.5000</text>\n</g>\n<!-- 5010910992&#45;&gt;5010912400+ -->\n<g id=\"edge23\" class=\"edge\">\n<title>5010910992&#45;&gt;5010912400+</title>\n<path fill=\"none\" stroke=\"black\" d=\"M940.96,-118.47C951.31,-119.89 961.12,-121.23 969.85,-122.42\"/>\n<polygon fill=\"black\" stroke=\"black\" points=\"969.17,-125.86 979.56,-123.75 970.12,-118.93 969.17,-125.86\"/>\n</g>\n<!-- 5010910992+&#45;&gt;5010910992 -->\n<g id=\"edge8\" class=\"edge\">\n<title>5010910992+&#45;&gt;5010910992</title>\n<path fill=\"none\" stroke=\"black\" d=\"M636.23,-100.5C643.46,-100.5 651.86,-100.5 660.97,-100.5\"/>\n<polygon fill=\"black\" stroke=\"black\" points=\"660.89,-104 670.89,-100.5 660.89,-97 660.89,-104\"/>\n</g>\n<!-- 5010909456 -->\n<g id=\"node22\" class=\"node\">\n<title>5010909456</title>\n<polygon fill=\"none\" stroke=\"black\" points=\"4,-0.5 4,-36.5 196,-36.5 196,-0.5 4,-0.5\"/>\n<text text-anchor=\"middle\" x=\"19\" y=\"-14.8\" font-family=\"Times,serif\" font-size=\"14.00\">x2</text>\n<polyline fill=\"none\" stroke=\"black\" points=\"34,-0.5 34,-36.5\"/>\n<text text-anchor=\"middle\" x=\"74\" y=\"-14.8\" font-family=\"Times,serif\" font-size=\"14.00\">data 0.0000</text>\n<polyline fill=\"none\" stroke=\"black\" points=\"114,-0.5 114,-36.5\"/>\n<text text-anchor=\"middle\" x=\"155\" y=\"-14.8\" font-family=\"Times,serif\" font-size=\"14.00\">grad 0.5000</text>\n</g>\n<!-- 5010909456&#45;&gt;5010899408* -->\n<g id=\"edge11\" class=\"edge\">\n<title>5010909456&#45;&gt;5010899408*</title>\n<path fill=\"none\" stroke=\"black\" d=\"M172.27,-36.48C181.67,-39.28 191.12,-42.3 200,-45.5 210.09,-49.13 220.83,-53.71 230.48,-58.11\"/>\n<polygon fill=\"black\" stroke=\"black\" points=\"228.91,-61.24 239.45,-62.29 231.87,-54.89 228.91,-61.24\"/>\n</g>\n<!-- 5010900304 -->\n<g id=\"node23\" class=\"node\">\n<title>5010900304</title>\n<polygon fill=\"none\" stroke=\"black\" points=\"0,-165.5 0,-201.5 200,-201.5 200,-165.5 0,-165.5\"/>\n<text text-anchor=\"middle\" x=\"16.5\" y=\"-179.8\" font-family=\"Times,serif\" font-size=\"14.00\">w1</text>\n<polyline fill=\"none\" stroke=\"black\" points=\"33,-165.5 33,-201.5\"/>\n<text text-anchor=\"middle\" x=\"75.5\" y=\"-179.8\" font-family=\"Times,serif\" font-size=\"14.00\">data &#45;3.0000</text>\n<polyline fill=\"none\" stroke=\"black\" points=\"118,-165.5 118,-201.5\"/>\n<text text-anchor=\"middle\" x=\"159\" y=\"-179.8\" font-family=\"Times,serif\" font-size=\"14.00\">grad 1.0000</text>\n</g>\n<!-- 5010900304&#45;&gt;5010901200* -->\n<g id=\"edge20\" class=\"edge\">\n<title>5010900304&#45;&gt;5010901200*</title>\n<path fill=\"none\" stroke=\"black\" d=\"M172.27,-165.52C181.67,-162.72 191.12,-159.7 200,-156.5 210.09,-152.87 220.83,-148.29 230.48,-143.89\"/>\n<polygon fill=\"black\" stroke=\"black\" points=\"231.87,-147.11 239.45,-139.71 228.91,-140.76 231.87,-147.11\"/>\n</g>\n<!-- 5010900944 -->\n<g id=\"node24\" class=\"node\">\n<title>5010900944</title>\n<polygon fill=\"none\" stroke=\"black\" points=\"2,-110.5 2,-146.5 198,-146.5 198,-110.5 2,-110.5\"/>\n<text text-anchor=\"middle\" x=\"17\" y=\"-124.8\" font-family=\"Times,serif\" font-size=\"14.00\">x1</text>\n<polyline fill=\"none\" stroke=\"black\" points=\"32,-110.5 32,-146.5\"/>\n<text text-anchor=\"middle\" x=\"72\" y=\"-124.8\" font-family=\"Times,serif\" font-size=\"14.00\">data 2.0000</text>\n<polyline fill=\"none\" stroke=\"black\" points=\"112,-110.5 112,-146.5\"/>\n<text text-anchor=\"middle\" x=\"155\" y=\"-124.8\" font-family=\"Times,serif\" font-size=\"14.00\">grad &#45;1.5000</text>\n</g>\n<!-- 5010900944&#45;&gt;5010901200* -->\n<g id=\"edge15\" class=\"edge\">\n<title>5010900944&#45;&gt;5010901200*</title>\n<path fill=\"none\" stroke=\"black\" d=\"M197.91,-128.5C207.21,-128.5 216.21,-128.5 224.38,-128.5\"/>\n<polygon fill=\"black\" stroke=\"black\" points=\"224.18,-132 234.18,-128.5 224.18,-125 224.18,-132\"/>\n</g>\n<!-- 5010902416 -->\n<g id=\"node25\" class=\"node\">\n<title>5010902416</title>\n<polygon fill=\"none\" stroke=\"black\" points=\"2751,-135.5 2751,-171.5 2947,-171.5 2947,-135.5 2751,-135.5\"/>\n<text text-anchor=\"middle\" x=\"2768\" y=\"-149.8\" font-family=\"Times,serif\" font-size=\"14.00\">out</text>\n<polyline fill=\"none\" stroke=\"black\" points=\"2785,-135.5 2785,-171.5\"/>\n<text text-anchor=\"middle\" x=\"2825\" y=\"-149.8\" font-family=\"Times,serif\" font-size=\"14.00\">data 0.7071</text>\n<polyline fill=\"none\" stroke=\"black\" points=\"2865,-135.5 2865,-171.5\"/>\n<text text-anchor=\"middle\" x=\"2906\" y=\"-149.8\" font-family=\"Times,serif\" font-size=\"14.00\">grad 1.0000</text>\n</g>\n<!-- 5010902416*&#45;&gt;5010902416 -->\n<g id=\"edge9\" class=\"edge\">\n<title>5010902416*&#45;&gt;5010902416</title>\n<path fill=\"none\" stroke=\"black\" d=\"M2715.26,-153.5C2722.59,-153.5 2731.05,-153.5 2740.07,-153.5\"/>\n<polygon fill=\"black\" stroke=\"black\" points=\"2739.8,-157 2749.8,-153.5 2739.8,-150 2739.8,-157\"/>\n</g>\n<!-- 5010899408 -->\n<g id=\"node27\" class=\"node\">\n<title>5010899408</title>\n<polygon fill=\"none\" stroke=\"black\" points=\"328.5,-55.5 328.5,-91.5 543.5,-91.5 543.5,-55.5 328.5,-55.5\"/>\n<text text-anchor=\"middle\" x=\"355\" y=\"-69.8\" font-family=\"Times,serif\" font-size=\"14.00\">x2*w2</text>\n<polyline fill=\"none\" stroke=\"black\" points=\"381.5,-55.5 381.5,-91.5\"/>\n<text text-anchor=\"middle\" x=\"421.5\" y=\"-69.8\" font-family=\"Times,serif\" font-size=\"14.00\">data 0.0000</text>\n<polyline fill=\"none\" stroke=\"black\" points=\"461.5,-55.5 461.5,-91.5\"/>\n<text text-anchor=\"middle\" x=\"502.5\" y=\"-69.8\" font-family=\"Times,serif\" font-size=\"14.00\">grad 0.5000</text>\n</g>\n<!-- 5010899408&#45;&gt;5010910992+ -->\n<g id=\"edge22\" class=\"edge\">\n<title>5010899408&#45;&gt;5010910992+</title>\n<path fill=\"none\" stroke=\"black\" d=\"M543.35,-90.29C553.14,-91.84 562.54,-93.32 570.99,-94.66\"/>\n<polygon fill=\"black\" stroke=\"black\" points=\"570.34,-98.1 580.76,-96.2 571.43,-91.18 570.34,-98.1\"/>\n</g>\n<!-- 5010899408*&#45;&gt;5010899408 -->\n<g id=\"edge10\" class=\"edge\">\n<title>5010899408*&#45;&gt;5010899408</title>\n<path fill=\"none\" stroke=\"black\" d=\"M290.34,-73.5C298.24,-73.5 307.46,-73.5 317.34,-73.5\"/>\n<polygon fill=\"black\" stroke=\"black\" points=\"317.24,-77 327.24,-73.5 317.24,-70 317.24,-77\"/>\n</g>\n</g>\n</svg>\n",
      "text/plain": [
       "<graphviz.graphs.Digraph at 0x12aa06050>"
      ]
     },
     "execution_count": 55,
     "metadata": {},
     "output_type": "execute_result"
    }
   ],
   "source": [
    "draw_dot(o)"
   ]
  },
  {
   "cell_type": "code",
   "execution_count": 56,
   "metadata": {},
   "outputs": [],
   "source": [
    "class Neuron:\n",
    "    def __init__(self, nin):\n",
    "        self.w = [Value(random.uniform(-1, 1)) for _ in range(nin)]\n",
    "        self.b = Value(random.uniform(-1, 1))\n",
    "    \n",
    "    def __call__(self, x):\n",
    "        # w * x + b\n",
    "        # multiply elements of x and elements of w pair-wise\n",
    "        activation = sum((wi*xi for wi, xi in zip(self.w , x)), self.b)\n",
    "        out = activation.tanh()\n",
    "        return out\n",
    "    \n",
    "    def parameters(self):\n",
    "        return self.w + [self.b]\n",
    "\n",
    "# a layer is a set of indipendent neurons    \n",
    "class Layer:\n",
    "    def __init__(self, nin, nout):\n",
    "        self.neurons = [Neuron(nin) for _ in range(nout)]\n",
    "\n",
    "    def __call__(self, x):\n",
    "        outs = [n(x) for n in self.neurons]\n",
    "        return outs[0] if len(outs) == 1 else outs\n",
    "    \n",
    "    def parameters(self):\n",
    "        # params = []\n",
    "        # for neuron in self.neurons:\n",
    "        #     ps = neuron.parameters()\n",
    "        #     params.extend(ps)\n",
    "        # return params\n",
    "        return [p for neuron in self.neurons for p in neuron.parameters()]\n",
    "\n",
    "# Multi Layer Perceptron\n",
    "class MLP:\n",
    "    def __init__(self, nin, nouts):\n",
    "        sz = [nin] + nouts\n",
    "        self.layers = [Layer(sz[i], sz[i+1]) for i in range(len(nouts))]\n",
    "    \n",
    "    def __call__(self, x):\n",
    "        for layer in self.layers:\n",
    "            x = layer(x)\n",
    "        return x\n",
    "    \n",
    "    def parameters(self):\n",
    "        return [p for layer in self.layers for p in layer.parameters()]\n"
   ]
  },
  {
   "cell_type": "code",
   "execution_count": 89,
   "metadata": {},
   "outputs": [
    {
     "data": {
      "text/plain": [
       "Value(data=0.84179508843692)"
      ]
     },
     "execution_count": 89,
     "metadata": {},
     "output_type": "execute_result"
    }
   ],
   "source": [
    "# manual network\n",
    "x = [2.0, 3.0, -1.0]\n",
    "n = MLP(3, [4, 4, 1])\n",
    "n(x)"
   ]
  },
  {
   "cell_type": "code",
   "execution_count": 90,
   "metadata": {},
   "outputs": [],
   "source": [
    "# examples\n",
    "xs = [\n",
    "    [2.0, 3.0, -1.0],\n",
    "    [3.0, -1.0, 0.5],\n",
    "    [0.5, 1.0, 1.0],\n",
    "    [1.0, 1.0, -1.0],\n",
    "]\n",
    "# desired targets\n",
    "ys = [1.0, -1.0, -1.0, 1.0]"
   ]
  },
  {
   "cell_type": "code",
   "execution_count": 59,
   "metadata": {},
   "outputs": [
    {
     "data": {
      "text/plain": [
       "Value(data=5.601005843742109)"
      ]
     },
     "execution_count": 59,
     "metadata": {},
     "output_type": "execute_result"
    }
   ],
   "source": [
    "# loss = how good the network is performing, we have to achieve low loss\n",
    "# loss = [(yout - ygt)**2 for ygt, yout in zip(ys, ypred)] # mean squared error loss\n",
    "ypred = [n(x) for x in xs]\n",
    "total_loss = sum((yout - ygt)**2 for ygt, yout in zip(ys, ypred))\n",
    "total_loss"
   ]
  },
  {
   "cell_type": "code",
   "execution_count": 80,
   "metadata": {},
   "outputs": [],
   "source": [
    "# bacward pass\n",
    "total_loss.backward()"
   ]
  },
  {
   "cell_type": "code",
   "execution_count": 81,
   "metadata": {},
   "outputs": [],
   "source": [
    "# if the grad is negative his influence on the loss is also negative\n",
    "# so slightly increasing the weight of the neuron of the layer would make the loss go down\n",
    "\n",
    "# update\n",
    "for p in n.parameters():\n",
    "    p.data += -0.01  * p.grad"
   ]
  },
  {
   "cell_type": "code",
   "execution_count": 82,
   "metadata": {},
   "outputs": [
    {
     "data": {
      "text/plain": [
       "Value(data=3.5333210236218884)"
      ]
     },
     "execution_count": 82,
     "metadata": {},
     "output_type": "execute_result"
    }
   ],
   "source": [
    "# forward pass\n",
    "ypred = [n(x) for x in xs]\n",
    "total_loss = sum((yout - ygt)**2 for ygt, yout in zip(ys, ypred))\n",
    "total_loss"
   ]
  },
  {
   "cell_type": "code",
   "execution_count": 105,
   "metadata": {},
   "outputs": [
    {
     "name": "stdout",
     "output_type": "stream",
     "text": [
      "1 3.737065634233386\n",
      "2 2.5779117055437206\n",
      "3 1.546695560780081\n",
      "4 0.9196856011727705\n",
      "5 0.6240381470730345\n",
      "6 0.4772808637684507\n",
      "7 0.3922728169829063\n",
      "8 0.3360147423207903\n",
      "9 0.2951327373888805\n",
      "10 0.2635368842680159\n",
      "11 0.23811095360024592\n",
      "12 0.21708226477433823\n",
      "13 0.19934785943847969\n",
      "14 0.18417069446553674\n",
      "15 0.17103064242475507\n",
      "16 0.15954532599053084\n",
      "17 0.14942484932734781\n",
      "18 0.14044418576418619\n",
      "19 0.13242539099563946\n",
      "20 0.12522562112548663\n"
     ]
    }
   ],
   "source": [
    "# forward pass -> backward pass -> update -> network improvement :)\n",
    "\n",
    "# creating the network\n",
    "x = [2.0, 3.0, -1.0]\n",
    "n = MLP(3, [4, 4, 1])\n",
    "n(x)\n",
    "\n",
    "# data examples\n",
    "xs = [\n",
    "    [2.0, 3.0, -1.0],\n",
    "    [3.0, -1.0, 0.5],\n",
    "    [0.5, 1.0, 1.0],\n",
    "    [1.0, 1.0, -1.0],\n",
    "]\n",
    "# desired targets\n",
    "ys = [1.0, -1.0, -1.0, 1.0]\n",
    "\n",
    "# training\n",
    "for k in range(20):\n",
    "    \n",
    "    # forward pass\n",
    "    ypred = [n(x) for x in xs]\n",
    "    loss = sum((yout - ygt)**2 for ygt, yout in zip(ys, ypred))\n",
    "\n",
    "    # resetting the grad, because the backwards pass does a +=\n",
    "    for p in n.parameters():\n",
    "        p.grad = 0.0\n",
    "\n",
    "    # backward pass\n",
    "    loss.backward()\n",
    "\n",
    "    # update\n",
    "    for p in n.parameters():\n",
    "        p.data += -0.01 * p.grad\n",
    "    \n",
    "    print(k + 1, loss.data)"
   ]
  },
  {
   "cell_type": "code",
   "execution_count": 106,
   "metadata": {},
   "outputs": [
    {
     "data": {
      "text/plain": [
       "[Value(data=0.9718462980790952),\n",
       " Value(data=-0.7767494204385096),\n",
       " Value(data=-0.8169561791915498),\n",
       " Value(data=0.797300398167786)]"
      ]
     },
     "execution_count": 106,
     "metadata": {},
     "output_type": "execute_result"
    }
   ],
   "source": [
    "ypred"
   ]
  },
  {
   "cell_type": "code",
   "execution_count": null,
   "metadata": {},
   "outputs": [],
   "source": []
  }
 ],
 "metadata": {
  "kernelspec": {
   "display_name": "Python 3",
   "language": "python",
   "name": "python3"
  },
  "language_info": {
   "codemirror_mode": {
    "name": "ipython",
    "version": 3
   },
   "file_extension": ".py",
   "mimetype": "text/x-python",
   "name": "python",
   "nbconvert_exporter": "python",
   "pygments_lexer": "ipython3",
   "version": "3.11.2"
  },
  "orig_nbformat": 4,
  "vscode": {
   "interpreter": {
    "hash": "b0fa6594d8f4cbf19f97940f81e996739fb7646882a419484c72d19e05852a7e"
   }
  }
 },
 "nbformat": 4,
 "nbformat_minor": 2
}
